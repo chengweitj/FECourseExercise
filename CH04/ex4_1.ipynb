{
 "cells": [
  {
   "cell_type": "markdown",
   "metadata": {},
   "source": [
    "# 第4章 练习题\n",
    "4.1 如图所示为二次四边形单元，试计算$\\dfrac{\\partial N_1}{\\partial x}$和$\\dfrac{\\partial N_2}{\\partial y}$在自然坐标为$\\left(\\dfrac{1}{2},\\dfrac{1}{2}\\right)$的点$Q$的数值（因为单元的边是直线，可用4个结点定义单元的几何形状）\n",
    "\n",
    "<img src=\"../ex4_1.jpg\", width=\"600\">"
   ]
  },
  {
   "cell_type": "code",
   "execution_count": 18,
   "metadata": {},
   "outputs": [],
   "source": [
    "# 导入模块\n",
    "import numpy as np\n",
    "import sympy as sm\n",
    "import scipy as sp\n",
    "import matplotlib.pyplot"
   ]
  },
  {
   "cell_type": "markdown",
   "metadata": {},
   "source": [
    "## 坐标采用4个结点时"
   ]
  },
  {
   "cell_type": "code",
   "execution_count": 19,
   "metadata": {},
   "outputs": [],
   "source": [
    "# 设全局坐标\n",
    "(x1, y1) = (40, 50)\n",
    "(x2, y2) = ( 5, 40)\n",
    "(x3, y3) = (10, 10)\n",
    "(x4, y4) = (30, 20)\n"
   ]
  },
  {
   "cell_type": "code",
   "execution_count": 20,
   "metadata": {},
   "outputs": [
    {
     "data": {
      "text/plain": [
       "array([[40, 50],\n",
       "       [ 5, 40],\n",
       "       [10, 10],\n",
       "       [30, 20]])"
      ]
     },
     "execution_count": 20,
     "metadata": {},
     "output_type": "execute_result"
    }
   ],
   "source": [
    "x_crd = np.array([x1, x2, x3, x4])\n",
    "y_crd = np.array([y1, y2, y3, y4])\n",
    "\n",
    "XY=np.array([[x1,y1],\\\n",
    "             [x2,y2],\\\n",
    "             [x3,y3],\\\n",
    "             [x4,y4]])\n",
    "XY"
   ]
  },
  {
   "cell_type": "code",
   "execution_count": 21,
   "metadata": {},
   "outputs": [],
   "source": [
    "# 4个结点的局部坐标为\n",
    "\n",
    "(xi1, et1) = ( 1, 1)\n",
    "(xi2, et2) = (-1, 1)\n",
    "(xi3, et3) = (-1,-1)\n",
    "(xi4, et4) = ( 1,-1)"
   ]
  },
  {
   "cell_type": "code",
   "execution_count": 22,
   "metadata": {},
   "outputs": [],
   "source": [
    "xi_crd = np.array([xi1, xi2, xi3, xi4])\n",
    "et_crd = np.array([et1, et2, et3, et4])"
   ]
  },
  {
   "cell_type": "markdown",
   "metadata": {},
   "source": [
    "坐标插值函数为\n",
    "$$x=\\sum_{i=1}^{4}{N_i(\\xi,\\eta)x_i},\\qquad y=\\sum_{i=1}^{4}{N_i(\\xi,\\eta)y_i}$$\n",
    "其中\n",
    "$$\n",
    "\\left\\{\n",
    "\\begin{array}{rcl}\n",
    "N_1(\\xi, \\eta) & = & \\dfrac{1}{4}(1+\\xi)(1+\\eta)\\\\\n",
    "N_2(\\xi, \\eta) & = & \\dfrac{1}{4}(1-\\xi)(1+\\eta)\\\\\n",
    "N_3(\\xi, \\eta) & = & \\dfrac{1}{4}(1-\\xi)(1-\\eta)\\\\\n",
    "N_4(\\xi, \\eta) & = & \\dfrac{1}{4}(1+\\xi)(1-\\eta)\n",
    "\\end{array}\n",
    "\\right.\n",
    "$$"
   ]
  },
  {
   "cell_type": "code",
   "execution_count": 24,
   "metadata": {},
   "outputs": [
    {
     "data": {
      "text/plain": [
       "[(et + 1)*(xi + 1)/4,\n",
       " (et + 1)*(-xi + 1)/4,\n",
       " (-et + 1)*(-xi + 1)/4,\n",
       " (-et + 1)*(xi + 1)/4]"
      ]
     },
     "execution_count": 24,
     "metadata": {},
     "output_type": "execute_result"
    }
   ],
   "source": [
    "# 4结点形函数\n",
    "xi, et = sm.symbols('xi et')\n",
    "\n",
    "N_1 = (1+xi)*(1+et)/4\n",
    "N_2 = (1-xi)*(1+et)/4\n",
    "N_3 = (1-xi)*(1-et)/4\n",
    "N_4 = (1+xi)*(1-et)/4\n",
    "\n",
    "N = [(1+xi_crd[i]*xi)*(1+et_crd[i]*et)/4 for i in range(4)]\n",
    "N"
   ]
  },
  {
   "cell_type": "markdown",
   "metadata": {},
   "source": [
    "偏导数关系式为\n",
    "$$\n",
    "  \\left\\{\\begin{array}{c}\n",
    "    \\dfrac{\\partial N_i}{\\partial \\xi}\\\\\n",
    "    \\dfrac{\\partial N_i}{\\partial \\eta}\n",
    "  \\end{array}\\right\\}\n",
    "  =\n",
    "  \\left(\\begin{array}{cc}\n",
    "    \\dfrac{\\partial x}{\\partial \\xi} & \\dfrac{\\partial y}{\\partial \\xi}\\\\\n",
    "    \\dfrac{\\partial x}{\\partial \\eta} & \\dfrac{\\partial y}{\\partial \\eta}\n",
    "  \\end{array}\\right)\n",
    "  \\left\\{\\begin{array}{c}\n",
    "    \\dfrac{\\partial N_i}{\\partial x}\\\\\n",
    "    \\dfrac{\\partial N_i}{\\partial y}\n",
    "  \\end{array}\\right\\}\n",
    "  =\\boldsymbol{J}\n",
    "  \\left\\{\\begin{array}{c}\n",
    "    \\dfrac{\\partial N_i}{\\partial x}\\\\\n",
    "    \\dfrac{\\partial N_i}{\\partial y}\n",
    "  \\end{array}\\right\\}\n",
    "$$\n",
    "其中，$\\boldsymbol{J}$称为Jacobi矩阵，满足\n",
    "$$\n",
    "  \\begin{array}{c}\n",
    "    \\boldsymbol{J}=\\dfrac{\\partial(x,y)}{\\partial(\\xi,\\eta)}\n",
    "    =\n",
    "    \\left(\\begin{array}{cc}\n",
    "      \\sum\\limits^m_{i=1}\\dfrac{\\partial N_i}{\\partial \\xi}x_i   & \\sum\\limits^m_{i=1}\\dfrac{\\partial N_i}{\\partial \\xi}y_i\\\\\n",
    "      \\sum\\limits^m_{i=1}\\dfrac{\\partial N_i}{\\partial \\eta}x_i  & \\sum\\limits^m_{i=1}\\dfrac{\\partial N_i}{\\partial \\eta}y_i\n",
    "    \\end{array}\\right)\\\\\n",
    "    =\n",
    "    \\left(\\begin{array}{cccc}\n",
    "      \\dfrac{\\partial N_1}{\\partial \\xi}   & \\dfrac{\\partial N_2}{\\partial \\xi}   & \\cdots & \\dfrac{\\partial N_m}{\\partial \\xi}\\\\\n",
    "      \\dfrac{\\partial N_1}{\\partial \\eta}  & \\dfrac{\\partial N_2}{\\partial \\eta}  & \\cdots & \\dfrac{\\partial N_m}{\\partial \\eta}\n",
    "    \\end{array}\\right)\n",
    "    \\left(\\begin{array}{cc}\n",
    "      x_1    & y_1\\\\\n",
    "      x_2    & y_2\\\\\n",
    "      \\vdots & \\vdots\\\\\n",
    "      x_m    & y_m\n",
    "    \\end{array}\\right)\n",
    "  = \\boldsymbol{\\partial N}\\cdot\\boldsymbol{XY}\n",
    "\\end{array}\n",
    "$$"
   ]
  },
  {
   "cell_type": "code",
   "execution_count": 26,
   "metadata": {},
   "outputs": [
    {
     "data": {
      "text/plain": [
       "array([[et/4 + 1/4, -et/4 - 1/4, et/4 - 1/4, -et/4 + 1/4],\n",
       "       [xi/4 + 1/4, -xi/4 + 1/4, xi/4 - 1/4, -xi/4 - 1/4]], dtype=object)"
      ]
     },
     "execution_count": 26,
     "metadata": {},
     "output_type": "execute_result"
    }
   ],
   "source": [
    "partial_N = np.array([[sm.diff(N_i, xi) for N_i in N], [sm.diff(N_i, et) for N_i in N]])\n",
    "partial_N"
   ]
  },
  {
   "cell_type": "code",
   "execution_count": 6,
   "metadata": {},
   "outputs": [
    {
     "data": {
      "text/plain": [
       "array([[0.375000000000000, -0.375000000000000, -0.125000000000000,\n",
       "        0.125000000000000],\n",
       "       [0.375000000000000, 0.125000000000000, -0.125000000000000,\n",
       "        -0.375000000000000]], dtype=object)"
      ]
     },
     "execution_count": 6,
     "metadata": {},
     "output_type": "execute_result"
    }
   ],
   "source": [
    "Np = np.array([[sm.diff(N_i, xi).evalf(subs={xi:0.5, et:0.5}) for N_i in N], [sm.diff(N_i, et).evalf(subs={xi:0.5, et:0.5}) for N_i in N]])\n",
    "Np"
   ]
  },
  {
   "cell_type": "code",
   "execution_count": 27,
   "metadata": {},
   "outputs": [
    {
     "data": {
      "text/plain": [
       "array([[15*et/4 + 55/4, 5],\n",
       "       [15*xi/4 + 5/4, 15]], dtype=object)"
      ]
     },
     "execution_count": 27,
     "metadata": {},
     "output_type": "execute_result"
    }
   ],
   "source": [
    "J4 = np.dot(partial_N, XY)\n",
    "J4"
   ]
  },
  {
   "cell_type": "code",
   "execution_count": 8,
   "metadata": {},
   "outputs": [
    {
     "data": {
      "text/plain": [
       "array([[15.6250000000000, 5.00000000000000],\n",
       "       [3.12500000000000, 15.0000000000000]], dtype=object)"
      ]
     },
     "execution_count": 8,
     "metadata": {},
     "output_type": "execute_result"
    }
   ],
   "source": [
    "#J4 = np.dot(Np, XY)\n",
    "#J4"
   ]
  },
  {
   "cell_type": "markdown",
   "metadata": {},
   "source": [
    "# 坐标采用8个结点时"
   ]
  },
  {
   "cell_type": "code",
   "execution_count": 28,
   "metadata": {},
   "outputs": [
    {
     "data": {
      "text/plain": [
       "array([[40. , 50. ],\n",
       "       [ 5. , 40. ],\n",
       "       [10. , 10. ],\n",
       "       [30. , 20. ],\n",
       "       [22.5, 45. ],\n",
       "       [ 7.5, 25. ],\n",
       "       [20. , 15. ],\n",
       "       [35. , 35. ]])"
      ]
     },
     "execution_count": 28,
     "metadata": {},
     "output_type": "execute_result"
    }
   ],
   "source": [
    "# 设全局坐标\n",
    "(x1, y1) = (40.0, 50.0)\n",
    "(x2, y2) = ( 5.0, 40.0)\n",
    "(x3, y3) = (10.0, 10.0)\n",
    "(x4, y4) = (30.0, 20.0)\n",
    "(x5, y5) = ((x1+x2)/2, (y1+y2)/2)\n",
    "(x6, y6) = ((x2+x3)/2, (y2+y3)/2)\n",
    "(x7, y7) = ((x3+x4)/2, (y3+y4)/2)\n",
    "(x8, y8) = ((x4+x1)/2, (y4+y1)/2)\n",
    "\n",
    "x_crd = np.array([x1, x2, x3, x4, x5, x6, x7, x8])\n",
    "y_crd = np.array([y1, y2, y3, y4, y5, y6, y7, y8])\n",
    "\n",
    "XY=np.array([[x1,y1],[x2,y2],[x3,y3],[x4,y4],[x5,y5],[x6,y6],[x7,y7],[x8,y8]])\n",
    "XY"
   ]
  },
  {
   "cell_type": "code",
   "execution_count": 29,
   "metadata": {},
   "outputs": [],
   "source": [
    "# 4个结点的局部坐标为\n",
    "(xi1, et1) = ( 1, 1)\n",
    "(xi2, et2) = (-1, 1)\n",
    "(xi3, et3) = (-1,-1)\n",
    "(xi4, et4) = ( 1,-1)\n",
    "(xi5, et5) = ( 0, 1)\n",
    "(xi6, et6) = (-1, 0)\n",
    "(xi7, et7) = ( 0,-1)\n",
    "(xi8, et8) = ( 1, 0)\n",
    "\n",
    "xi_crd = np.array([xi1, xi2, xi3, xi4, xi5, xi6, xi7, xi8])\n",
    "et_crd = np.array([et1, et2, et3, et4, et5, et6, et7, et8])"
   ]
  },
  {
   "cell_type": "markdown",
   "metadata": {},
   "source": [
    "坐标插值函数为\n",
    "$$x=\\sum_{i=1}^{8}{N_i(\\xi,\\eta)x_i},\\qquad y=\\sum_{i=1}^{8}{N_i(\\xi,\\eta)y_i}$$\n",
    "采用Serendipity单元建立形函数，如下\n",
    "首先\n",
    "$$\n",
    "\\left\\{\n",
    "\\begin{array}{rcl}\n",
    "\\hat{N}_1(\\xi, \\eta) & = & \\dfrac{1}{4}(1+\\xi)(1+\\eta)\\\\\n",
    "\\hat{N}_2(\\xi, \\eta) & = & \\dfrac{1}{4}(1-\\xi)(1+\\eta)\\\\\n",
    "\\hat{N}_3(\\xi, \\eta) & = & \\dfrac{1}{4}(1-\\xi)(1-\\eta)\\\\\n",
    "\\hat{N}_4(\\xi, \\eta) & = & \\dfrac{1}{4}(1+\\xi)(1-\\eta)\n",
    "\\end{array}\n",
    "\\right.\n",
    "$$\n",
    "然后\n",
    "$$\n",
    "\\left\\{\n",
    "\\begin{array}{rcl}\n",
    "N_5(\\xi, \\eta) & = & \\dfrac{1}{2}(1-\\xi^2)(1+\\eta)\\\\\n",
    "N_6(\\xi, \\eta) & = & \\dfrac{1}{2}(1-\\xi)(1-\\eta^2)\\\\\n",
    "N_7(\\xi, \\eta) & = & \\dfrac{1}{2}(1-\\xi^2)(1-\\eta)\\\\\n",
    "N_8(\\xi, \\eta) & = & \\dfrac{1}{2}(1+\\xi)(1-\\eta^2)\n",
    "\\end{array}\n",
    "\\right.\n",
    "$$\n",
    "最后\n",
    "$$\n",
    "\\left\\{\n",
    "\\begin{array}{c}\n",
    "N_1(\\xi, \\eta) = \\hat{N}_1(\\xi, \\eta) - \\sum_{i=5}^{8}{\\hat{N}_1(\\xi_i, \\eta_i)N_i(\\xi, \\eta)}\\\\\n",
    "N_2(\\xi, \\eta) = \\hat{N}_2(\\xi, \\eta) - \\sum_{i=5}^{8}{\\hat{N}_2(\\xi_i, \\eta_i)N_i(\\xi, \\eta)}\\\\\n",
    "N_3(\\xi, \\eta) = \\hat{N}_3(\\xi, \\eta) - \\sum_{i=5}^{8}{\\hat{N}_3(\\xi_i, \\eta_i)N_i(\\xi, \\eta)}\\\\\n",
    "N_4(\\xi, \\eta) = \\hat{N}_4(\\xi, \\eta) - \\sum_{i=5}^{8}{\\hat{N}_4(\\xi_i, \\eta_i)N_i(\\xi, \\eta)}\n",
    "\\end{array}\n",
    "\\right.\n",
    "$$\n"
   ]
  },
  {
   "cell_type": "code",
   "execution_count": 30,
   "metadata": {},
   "outputs": [
    {
     "data": {
      "text/plain": [
       "[-0.e-143*(-et + 1)*(-xi**2 + 1) + (et + 1)*(xi + 1)/4 - 0.25*(et + 1)*(-xi**2 + 1) - 0.e-143*(-et**2 + 1)*(-xi + 1) - 0.25*(-et**2 + 1)*(xi + 1),\n",
       " -0.e-143*(-et + 1)*(-xi**2 + 1) + (et + 1)*(-xi + 1)/4 - 0.25*(et + 1)*(-xi**2 + 1) - 0.25*(-et**2 + 1)*(-xi + 1) - 0.e-143*(-et**2 + 1)*(xi + 1),\n",
       " (-et + 1)*(-xi + 1)/4 - 0.25*(-et + 1)*(-xi**2 + 1) - 0.e-143*(et + 1)*(-xi**2 + 1) - 0.25*(-et**2 + 1)*(-xi + 1) - 0.e-143*(-et**2 + 1)*(xi + 1),\n",
       " (-et + 1)*(xi + 1)/4 - 0.25*(-et + 1)*(-xi**2 + 1) - 0.e-143*(et + 1)*(-xi**2 + 1) - 0.e-143*(-et**2 + 1)*(-xi + 1) - 0.25*(-et**2 + 1)*(xi + 1),\n",
       " (et + 1)*(-xi**2 + 1)/2,\n",
       " (-et**2 + 1)*(-xi + 1)/2,\n",
       " (-et + 1)*(-xi**2 + 1)/2,\n",
       " (-et**2 + 1)*(xi + 1)/2]"
      ]
     },
     "execution_count": 30,
     "metadata": {},
     "output_type": "execute_result"
    }
   ],
   "source": [
    "# 8结点形函数\n",
    "xi, et = sm.symbols('xi et')\n",
    "\n",
    "hN_1 = (1+xi)*(1+et)/4\n",
    "hN_2 = (1-xi)*(1+et)/4\n",
    "hN_3 = (1-xi)*(1-et)/4\n",
    "hN_4 = (1+xi)*(1-et)/4\n",
    "\n",
    "N_5 = (1-xi*xi)*(1+et)/2\n",
    "N_6 = (1-xi)*(1-et*et)/2\n",
    "N_7 = (1-xi*xi)*(1-et)/2\n",
    "N_8 = (1+xi)*(1-et*et)/2\n",
    "\n",
    "N = [0]*8\n",
    "N[4:8] = [N_5, N_6, N_7, N_8]\n",
    "\n",
    "hatN = [hN_1, hN_2, hN_3, hN_4]\n",
    "\n",
    "#N_1 = hN_1 - sum([hN_1.evalf(subs={xi:xi_crd[i], et:et_crd[i]})*N[i] for i in range(4,8)])\n",
    "#N_2 = hN_2 - sum([hN_2.evalf(subs={xi:xi_crd[i], et:et_crd[i]})*N[i] for i in range(4,8)])\n",
    "#N_3 = hN_3 - sum([hN_3.evalf(subs={xi:xi_crd[i], et:et_crd[i]})*N[i] for i in range(4,8)])\n",
    "#N_4 = hN_4 - sum([hN_4.evalf(subs={xi:xi_crd[i], et:et_crd[i]})*N[i] for i in range(4,8)])\n",
    "\n",
    "#N[0:4] = [N_1, N_2, N_3, N_4]\n",
    "\n",
    "N[0:4] = [hN -sum([hN.evalf(subs={xi:xi_crd[i], et:et_crd[i]})*N[i] for i in range(4,8)]) for hN in hatN]\n",
    "sm.simplify(N)"
   ]
  },
  {
   "cell_type": "code",
   "execution_count": 31,
   "metadata": {},
   "outputs": [
    {
     "data": {
      "text/plain": [
       "array([[0.25*et**2 + et/4 + 0.e-142*xi*(-et + 1) + 0.5*xi*(et + 1),\n",
       "        -0.25*et**2 - et/4 + 0.e-142*xi*(-et + 1) + 0.5*xi*(et + 1),\n",
       "        -0.25*et**2 + et/4 + 0.5*xi*(-et + 1) + 0.e-142*xi*(et + 1),\n",
       "        0.25*et**2 - et/4 + 0.5*xi*(-et + 1) + 0.e-142*xi*(et + 1),\n",
       "        -xi*(et + 1), et**2/2 - 1/2, -xi*(-et + 1), -et**2/2 + 1/2],\n",
       "       [0.e-142*et*(-xi + 1) + 0.5*et*(xi + 1) + 0.25*xi**2 + xi/4,\n",
       "        0.5*et*(-xi + 1) + 0.e-142*et*(xi + 1) + 0.25*xi**2 - xi/4,\n",
       "        0.5*et*(-xi + 1) + 0.e-142*et*(xi + 1) - 0.25*xi**2 + xi/4,\n",
       "        0.e-142*et*(-xi + 1) + 0.5*et*(xi + 1) - 0.25*xi**2 - xi/4,\n",
       "        -xi**2/2 + 1/2, -et*(-xi + 1), xi**2/2 - 1/2, -et*(xi + 1)]],\n",
       "      dtype=object)"
      ]
     },
     "execution_count": 31,
     "metadata": {},
     "output_type": "execute_result"
    }
   ],
   "source": [
    "partial_N = np.array([[sm.diff(N_i, xi) for N_i in N], [sm.diff(N_i, et) for N_i in N]])\n",
    "partial_N"
   ]
  },
  {
   "cell_type": "code",
   "execution_count": 13,
   "metadata": {},
   "outputs": [
    {
     "data": {
      "text/plain": [
       "array([[0.562500000000000, 0.187500000000000, 0.187500000000000,\n",
       "        0.0625000000000000, -0.750000000000000, -0.375000000000000,\n",
       "        -0.250000000000000, 0.375000000000000],\n",
       "       [0.562500000000000, 0.0625000000000000, 0.187500000000000,\n",
       "        0.187500000000000, 0.375000000000000, -0.250000000000000,\n",
       "        -0.375000000000000, -0.750000000000000]], dtype=object)"
      ]
     },
     "execution_count": 13,
     "metadata": {},
     "output_type": "execute_result"
    }
   ],
   "source": [
    "Np = np.array([[sm.diff(N_i, xi).evalf(subs={xi:0.5, et:0.5}) for N_i in N], [sm.diff(N_i, et).evalf(subs={xi:0.5, et:0.5}) for N_i in N]])\n",
    "Np"
   ]
  },
  {
   "cell_type": "code",
   "execution_count": 32,
   "metadata": {},
   "outputs": [
    {
     "data": {
      "text/plain": [
       "array([[3.75*et + 13.75, 5.00000000000000],\n",
       "       [3.75*xi + 1.25, 15.0000000000000]], dtype=object)"
      ]
     },
     "execution_count": 32,
     "metadata": {},
     "output_type": "execute_result"
    }
   ],
   "source": [
    "J8 = np.dot(partial_N, XY)\n",
    "J8"
   ]
  },
  {
   "cell_type": "code",
   "execution_count": 17,
   "metadata": {},
   "outputs": [],
   "source": [
    "#J8 = np.dot(Np, XY)\n",
    "#J8"
   ]
  },
  {
   "cell_type": "code",
   "execution_count": 33,
   "metadata": {},
   "outputs": [
    {
     "data": {
      "text/plain": [
       "[[0, 0], [0, 0]]"
      ]
     },
     "execution_count": 33,
     "metadata": {},
     "output_type": "execute_result"
    }
   ],
   "source": [
    "sm.simplify(J8-J4)"
   ]
  },
  {
   "cell_type": "code",
   "execution_count": null,
   "metadata": {},
   "outputs": [],
   "source": []
  }
 ],
 "metadata": {
  "kernelspec": {
   "display_name": "Python 3",
   "language": "python",
   "name": "python3"
  },
  "language_info": {
   "codemirror_mode": {
    "name": "ipython",
    "version": 3
   },
   "file_extension": ".py",
   "mimetype": "text/x-python",
   "name": "python",
   "nbconvert_exporter": "python",
   "pygments_lexer": "ipython3",
   "version": "3.6.4"
  }
 },
 "nbformat": 4,
 "nbformat_minor": 2
}
